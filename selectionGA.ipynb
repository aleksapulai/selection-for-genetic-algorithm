{
  "nbformat": 4,
  "nbformat_minor": 0,
  "metadata": {
    "colab": {
      "provenance": []
    },
    "kernelspec": {
      "name": "python3",
      "display_name": "Python 3"
    },
    "language_info": {
      "name": "python"
    }
  },
  "cells": [
    {
      "cell_type": "code",
      "execution_count": null,
      "metadata": {
        "id": "iALimYpjoRnA"
      },
      "outputs": [],
      "source": [
        "%matplotlib inline\n",
        "\n",
        "import random\n",
        "import numpy as np\n",
        "import matplotlib.pyplot as plt\n",
        "import math\n",
        "\n",
        "from mpl_toolkits import mplot3d\n",
        "\n",
        "pi = 3.1415\n",
        "\n",
        "import csv"
      ]
    },
    {
      "cell_type": "code",
      "source": [
        "def generate_initial_chromosomes(length, max, min, pop_size):\n",
        "    return [[random.uniform(min,max) for j in range(length)] for i in range(pop_size)]\n",
        "\n",
        "def population_stats(fitnesses):\n",
        "    best = fitnesses[0]\n",
        "    average = sum(fitnesses) / len(fitnesses)\n",
        "\n",
        "    return best, average"
      ],
      "metadata": {
        "id": "lgH5-QwvoZcQ"
      },
      "execution_count": null,
      "outputs": []
    },
    {
      "cell_type": "code",
      "source": [
        "def rank_chromosomes(cost_function, chromosomes):\n",
        "\n",
        "    fitnesses = []\n",
        "    for chromosome in chromosomes:\n",
        "        fitness = cost_function(chromosome)\n",
        "        fitnesses.append(fitness)\n",
        "\n",
        "    chromosome_with_fitnesses = []\n",
        "    for i in range(len(chromosomes)):\n",
        "        chromosome_with_fitnesses.append((chromosomes[i], fitnesses[i]))\n",
        "\n",
        "    chromosome_with_fitnesses.sort(key=lambda x: x[1], reverse = True)\n",
        "\n",
        "    sorted_chromosomes = []\n",
        "    sorted_fitnesses = []\n",
        "    for chromosome, cost in chromosome_with_fitnesses:\n",
        "        sorted_chromosomes.append(chromosome)\n",
        "        sorted_fitnesses.append(cost)\n",
        "\n",
        "    return sorted_chromosomes, sorted_fitnesses"
      ],
      "metadata": {
        "id": "ML-bzVo5onDq"
      },
      "execution_count": null,
      "outputs": []
    },
    {
      "cell_type": "markdown",
      "source": [
        "#SELECTION\n"
      ],
      "metadata": {
        "id": "dMutMiaIxMrU"
      }
    },
    {
      "cell_type": "markdown",
      "source": [
        "\n",
        "\n",
        "##Roulette Wheel Selection"
      ],
      "metadata": {
        "id": "rzdYdv53gjc_"
      }
    },
    {
      "cell_type": "code",
      "source": [
        "def roulette_wheel_selection(parents, fitnesses):\n",
        "\n",
        "    fitnesses_adjusted = [-1/x for x in fitnesses]\n",
        "\n",
        "    num_parents = len(parents)\n",
        "\n",
        "    pairs_count = num_parents // 2\n",
        "\n",
        "    total_fitness = sum(fitnesses_adjusted)\n",
        "    pairs = []\n",
        "\n",
        "    for _ in range(pairs_count):\n",
        "        selected_parents = []\n",
        "        for _ in range(2):\n",
        "            selection_point = random.uniform(0, total_fitness)\n",
        "            running_sum = 0\n",
        "\n",
        "            for parent, fitness in zip(parents, fitnesses_adjusted):\n",
        "                running_sum += fitness\n",
        "                if running_sum >= selection_point:\n",
        "                    selected_parents.append(parent)\n",
        "                    break\n",
        "\n",
        "        pairs.append(selected_parents)\n",
        "\n",
        "    return pairs"
      ],
      "metadata": {
        "id": "ebiPMW1Nfx6k"
      },
      "execution_count": null,
      "outputs": []
    },
    {
      "cell_type": "markdown",
      "source": [
        "## Stochastic Uniform Selection"
      ],
      "metadata": {
        "id": "5Il89VsW83cB"
      }
    },
    {
      "cell_type": "code",
      "source": [
        "def stochastic_uniform_selection(parents, fitnesses):\n",
        "\n",
        "    fitnesses_adjusted = [-1/x for x in fitnesses]\n",
        "\n",
        "    num_parents = len(parents)\n",
        "    total_fitness = sum(fitnesses_adjusted)\n",
        "    num_pairs = num_parents // 2\n",
        "    distance = total_fitness / num_parents\n",
        "    start_point = random.uniform(0, distance)\n",
        "    points = [start_point + i * distance for i in range(num_parents)]\n",
        "\n",
        "    selected_parents = []\n",
        "    current_member = 0\n",
        "    sum_fitness = fitnesses_adjusted[current_member]\n",
        "\n",
        "    for point in points:\n",
        "        while sum_fitness < point:\n",
        "            current_member += 1\n",
        "            sum_fitness += fitnesses_adjusted[current_member]\n",
        "        selected_parents.append(parents[current_member])\n",
        "\n",
        "    random.shuffle(selected_parents)\n",
        "\n",
        "    pairs = []\n",
        "    for i in range(0, len(selected_parents), 2):\n",
        "        pairs.append(list((selected_parents[i], selected_parents[i+1])))\n",
        "\n",
        "    return pairs"
      ],
      "metadata": {
        "id": "0nT6qQsyzfc7"
      },
      "execution_count": null,
      "outputs": []
    },
    {
      "cell_type": "markdown",
      "source": [
        "## K-tournament Selection"
      ],
      "metadata": {
        "id": "pF6aj_nk9RLL"
      }
    },
    {
      "cell_type": "code",
      "source": [
        "def k_tournament_selection(cost_function, chromosomes, k):\n",
        "\n",
        "    num_parents = len(chromosomes)\n",
        "    num_pairs = num_parents // 2\n",
        "\n",
        "    pairs = []\n",
        "\n",
        "    for _ in range(0,num_pairs):\n",
        "        pair = []\n",
        "        for _ in range(2):\n",
        "            tournament_contenders = random.choices(chromosomes, k=k)\n",
        "\n",
        "            fitnesses = []\n",
        "\n",
        "            for contender in tournament_contenders:\n",
        "                fitness = cost_function(contender)\n",
        "                fitnesses.append(fitness)\n",
        "\n",
        "            pair.append(tournament_contenders[fitnesses.index(max(fitnesses))])\n",
        "        pairs.append(pair)\n",
        "\n",
        "    return pairs"
      ],
      "metadata": {
        "id": "CZqoSjsk9Qyp"
      },
      "execution_count": null,
      "outputs": []
    },
    {
      "cell_type": "markdown",
      "source": [
        "##Linear Sorting Selection"
      ],
      "metadata": {
        "id": "5EF1LYp6FMc_"
      }
    },
    {
      "cell_type": "code",
      "source": [
        "def linear_sorting_selection(chromosomes):\n",
        "\n",
        "    N = len(chromosomes)\n",
        "    num_pairs = N // 2\n",
        "    probabilities = [(2 * (N - i)) / (N * (N + 1)) for i in range(N)]\n",
        "\n",
        "    pairs = []\n",
        "    for _ in range(num_pairs):\n",
        "        selected_parents = random.choices(chromosomes, weights=probabilities, k=2)\n",
        "        pairs.append(list(selected_parents))\n",
        "\n",
        "    return pairs"
      ],
      "metadata": {
        "id": "isgrw0G0FO9T"
      },
      "execution_count": null,
      "outputs": []
    },
    {
      "cell_type": "markdown",
      "source": [
        "## Aging Evolution"
      ],
      "metadata": {
        "id": "NXki_tVxBgdo"
      }
    },
    {
      "cell_type": "code",
      "source": [
        "def aging_evolution(chromosomes, sample_size, cost_function):\n",
        "\n",
        "    pair = []\n",
        "    for _ in range(2):\n",
        "        tournament_contenders = random.choices(chromosomes, k=sample_size)\n",
        "\n",
        "        fitnesses = []\n",
        "\n",
        "        for contender in tournament_contenders:\n",
        "            fitness = cost_function(contender)\n",
        "            fitnesses.append(fitness)\n",
        "\n",
        "        pair.append(tournament_contenders[fitnesses.index(max(fitnesses))])\n",
        "\n",
        "    return pair"
      ],
      "metadata": {
        "id": "xRGCcxm2Bf4v"
      },
      "execution_count": null,
      "outputs": []
    },
    {
      "cell_type": "markdown",
      "source": [
        "#CROSSOVER"
      ],
      "metadata": {
        "id": "qbPQ8FP3xTzz"
      }
    },
    {
      "cell_type": "code",
      "source": [
        "def crossover(pair):\n",
        "\n",
        "    children = []\n",
        "\n",
        "    p1, p2 = pair[0], pair[1]\n",
        "\n",
        "    r = random.random()\n",
        "\n",
        "    c1 = []\n",
        "    c2 = []\n",
        "\n",
        "    for i in range(0,len(p1)):\n",
        "        c1.append(r * p1[i] + (1 - r) * p2[i])\n",
        "        c2.append((1 - r) *  p1[i] + r*p2[i])\n",
        "\n",
        "    children.append(c1)\n",
        "    children.append(c2)\n",
        "\n",
        "    return children"
      ],
      "metadata": {
        "id": "0LMg-Z96xTDQ"
      },
      "execution_count": null,
      "outputs": []
    },
    {
      "cell_type": "markdown",
      "source": [
        "#MUTATION"
      ],
      "metadata": {
        "id": "x8utaDAAzgre"
      }
    },
    {
      "cell_type": "code",
      "source": [
        "def mutation(chromosomes, mutation_rate, mutation_width):\n",
        "\n",
        "    mutated_chromosomes = []\n",
        "    for chromosome in chromosomes:\n",
        "\n",
        "        result = []\n",
        "\n",
        "        for i in range(0,len(chromosome)):\n",
        "            if random.random() < mutation_rate:\n",
        "                r = random.random()\n",
        "\n",
        "                result.append( chromosome[i] + mutation_width * 2 * (r - 0.5) )\n",
        "            else:\n",
        "                result.append(chromosome[i])\n",
        "\n",
        "        mutated_chromosomes.append(result)\n",
        "    return mutated_chromosomes"
      ],
      "metadata": {
        "id": "KUKLERWOzf2A"
      },
      "execution_count": null,
      "outputs": []
    },
    {
      "cell_type": "markdown",
      "source": [
        "#ELITISM"
      ],
      "metadata": {
        "id": "5tu0vZuWA62O"
      }
    },
    {
      "cell_type": "code",
      "source": [
        "def elitism(chromosomes_old, chromosomes_new, elitism_rate, population_size):\n",
        "\n",
        "    old_to_keep = int(round(population_size * elitism_rate))\n",
        "\n",
        "    elite_old_chromosomes = chromosomes_old[:old_to_keep]\n",
        "\n",
        "    new_chromosomes = chromosomes_new[:population_size - old_to_keep]\n",
        "\n",
        "    return elite_old_chromosomes + new_chromosomes"
      ],
      "metadata": {
        "id": "x8vgZJ3gA6Ri"
      },
      "execution_count": null,
      "outputs": []
    },
    {
      "cell_type": "markdown",
      "source": [
        "#TEST FUNCTIONS\n"
      ],
      "metadata": {
        "id": "I4cdi7d8FYPX"
      }
    },
    {
      "cell_type": "code",
      "source": [
        "def levy_function(chromosome):\n",
        "\n",
        "  x = chromosome[0]\n",
        "  y = chromosome[1]\n",
        "\n",
        "  tmp1 = math.pow(math.sin(3*pi*x), 2)\n",
        "  tmp2 = math.pow((x - 1), 2) * (1 + math.pow(math.sin(3*pi*y), 2))\n",
        "  tmp3 = math.pow((y - 1), 2) * (1 + math.pow(math.sin(2*pi*y), 2))\n",
        "\n",
        "  return -(tmp1 + tmp2 + tmp3)"
      ],
      "metadata": {
        "id": "Gkd7VNHMuIqW"
      },
      "execution_count": null,
      "outputs": []
    },
    {
      "cell_type": "code",
      "source": [
        "def ackley_function(chromosome, a=20, b=0.2, c=2*math.pi):\n",
        "\n",
        "    x = chromosome[0]\n",
        "    y = chromosome[1]\n",
        "\n",
        "    part1 = -a * math.exp(-b * math.sqrt(0.5 * (x**2 + y**2)))\n",
        "    part2 = -math.exp(0.5 * (math.cos(c * x) + math.cos(c * y)))\n",
        "    result = part1 + part2 + a + math.exp(1)\n",
        "    return -result"
      ],
      "metadata": {
        "id": "7SNaczd0qaYE"
      },
      "execution_count": null,
      "outputs": []
    },
    {
      "cell_type": "code",
      "source": [
        "def sphere_function(chromosome):\n",
        "\n",
        "    x = chromosome[0]\n",
        "    y = chromosome[1]\n",
        "\n",
        "    return -(x**2 + y**2)"
      ],
      "metadata": {
        "id": "NflHR5rWtFKZ"
      },
      "execution_count": null,
      "outputs": []
    },
    {
      "cell_type": "code",
      "source": [
        "def rastrigin_function(chromosome, A=10):\n",
        "\n",
        "    x = chromosome[0]\n",
        "    y = chromosome[1]\n",
        "\n",
        "    return -(A * 2 + (x**2 - A * math.cos(2 * math.pi * x)) + (y**2 - A * math.cos(2 * math.pi * y)))\n"
      ],
      "metadata": {
        "id": "x7vKmMNtuXiE"
      },
      "execution_count": null,
      "outputs": []
    },
    {
      "cell_type": "markdown",
      "source": [
        "#MAIN FUNCTION"
      ],
      "metadata": {
        "id": "vrncysBJagRJ"
      }
    },
    {
      "cell_type": "code",
      "source": [
        "def genetic_algorithm(cost_function, range_of_values, population_size, selection_type, mutation_rate = 0.8, elitism_rate = 0.1, chromosome_length = 2, max_iterations = 500, function_tolerance = 0.005, pnt=False):\n",
        "\n",
        "    min_val = range_of_values[0]\n",
        "    max_val = range_of_values[1]\n",
        "\n",
        "    avg_list = []\n",
        "    best_list = []\n",
        "    curr_best = -10000\n",
        "    same_best_count = 0\n",
        "    last_best = -100000\n",
        "    stall_generations = 0\n",
        "\n",
        "    chromosomes = generate_initial_chromosomes(chromosome_length, max_val, min_val, population_size)\n",
        "\n",
        "    for iter in range(max_iterations):\n",
        "      ranked_parents, costs = rank_chromosomes(cost_function, chromosomes)\n",
        "      best, average = population_stats(costs)\n",
        "\n",
        "      if selection_type == \"roulette_wheel_selection\":\n",
        "          pairs = roulette_wheel_selection(ranked_parents, costs)\n",
        "      elif selection_type == \"stochastic_uniform_selection\":\n",
        "          pairs = stochastic_uniform_selection(ranked_parents, costs)\n",
        "      elif selection_type == \"k_tournament_selection\":\n",
        "          pairs = k_tournament_selection(cost_function, ranked_parents, 3)\n",
        "      else:\n",
        "          pairs = linear_sorting_selection(ranked_parents)\n",
        "\n",
        "      if selection_type == \"aging_evolution\":\n",
        "        pair = aging_evolution(chromosomes, 3, cost_function)\n",
        "        child = crossover(pair)\n",
        "        mutated_child = mutation(list(child), mutation_rate, 1)\n",
        "        chromosomes.append(mutated_child[0])\n",
        "        chromosomes.append(mutated_child[1])\n",
        "        chromosomes.pop(0)\n",
        "        chromosomes.pop(0)\n",
        "      else:\n",
        "\n",
        "        children = []\n",
        "\n",
        "        for pair in pairs:\n",
        "            children.extend(crossover(pair))\n",
        "\n",
        "        mutated_children = mutation(children, mutation_rate, 1)\n",
        "\n",
        "        ranked_children, costs = rank_chromosomes(cost_function, mutated_children)\n",
        "        chromosomes = elitism(ranked_parents,ranked_children, elitism_rate, population_size)\n",
        "\n",
        "      if(pnt):\n",
        "        print(\"Generacija: \", iter+1,\" Prosek: {:.3f}\".format(average),\" Trenutno najbolje rešenje: {:.3f}\".format(best), \"[X, Y] = {:.3f} {:.3f}\".format(ranked_parents[0][0], ranked_parents[0][1]))\n",
        "        print(\"-------------------------\")\n",
        "\n",
        "      avg_list.append(average)\n",
        "      if best > curr_best:\n",
        "        best_list.append(best)\n",
        "        last_best = curr_best\n",
        "        curr_best = best\n",
        "        same_best_count = 0\n",
        "      elif best == curr_best:\n",
        "        same_best_count += 1\n",
        "        best_list.append(best)\n",
        "\n",
        "      if (abs(abs(last_best) - abs(curr_best)) < function_tolerance):\n",
        "          stall_generations = stall_generations + 1\n",
        "\n",
        "          if stall_generations == 10:\n",
        "              avg_list = avg_list[:iter]\n",
        "              best_list = best_list[:iter]\n",
        "              all_avg_list.append(avg_list)\n",
        "              all_best_list.append(best_list)\n",
        "              generations_list.append(iter)\n",
        "\n",
        "              if(pnt):\n",
        "                print(\"\\nPronađeno rešenje! Koordinate rešenja: [X, Y] = {:.3f} {:.3f}\\n\".format(ranked_parents[0][0],ranked_parents[0][1]))\n",
        "              return round(cost_function([ranked_parents[0][0],ranked_parents[0][1]]), 3)\n",
        "      else:\n",
        "          stall_generations = 0\n",
        "\n",
        "      if same_best_count > 10:\n",
        "        if(pnt):\n",
        "          print(\"\\nZaustavljeno zbog konvergencije. Najbolje rešenje: [X, Y] = {:.3f} {:.3f}\\n\".format(ranked_parents[0][0],ranked_parents[0][1]))\n",
        "\n",
        "        avg_list = avg_list[:iter]\n",
        "        best_list = best_list[:iter]\n",
        "        all_avg_list.append(avg_list)\n",
        "        all_best_list.append(best_list)\n",
        "        generations_list.append(iter)\n",
        "\n",
        "        return round(cost_function([ranked_parents[0][0],ranked_parents[0][1]]), 3)\n",
        "\n",
        "      if iter == max_iterations - 1:\n",
        "        avg_list = avg_list[:iter]\n",
        "        best_list = best_list[:iter]\n",
        "        all_avg_list.append(avg_list)\n",
        "        all_best_list.append(best_list)\n",
        "        generations_list.append(iter)\n",
        "\n",
        "        if(pnt):\n",
        "          print(\"\\nZaustavljeno zbog dostignutog maksimalnog broja iteracija, nije pronađeno rešenje. Najbolje rešenje [X, Y] = {:.3f} {:.3f}\\n\".format(ranked_parents[0][0],ranked_parents[0][1]))\n",
        "\n",
        "        return round(cost_function([ranked_parents[0][0],ranked_parents[0][1]]), 3)"
      ],
      "metadata": {
        "id": "20vFse-2BWbw"
      },
      "execution_count": null,
      "outputs": []
    },
    {
      "cell_type": "code",
      "source": [
        "all_avg_list = []\n",
        "generations_list = []\n",
        "all_best_list = []\n",
        "print(genetic_algorithm(levy_function, [-5, 5], 50, \"roulette_wheel_selection\", function_tolerance = 0.002, pnt=True))"
      ],
      "metadata": {
        "colab": {
          "base_uri": "https://localhost:8080/"
        },
        "id": "H4yt287-BXiY",
        "outputId": "292d5acc-ac4b-4029-cbdb-4d7870bb35fe"
      },
      "execution_count": null,
      "outputs": [
        {
          "output_type": "stream",
          "name": "stdout",
          "text": [
            "Generacija:  1  Prosek: -29.604  Trenutno najbolje rešenje: -0.616 [X, Y] = 1.696 0.964\n",
            "-------------------------\n",
            "Generacija:  2  Prosek: -6.164  Trenutno najbolje rešenje: -0.125 [X, Y] = 1.334 0.964\n",
            "-------------------------\n",
            "Generacija:  3  Prosek: -1.791  Trenutno najbolje rešenje: -0.122 [X, Y] = 1.033 0.871\n",
            "-------------------------\n",
            "Generacija:  4  Prosek: -1.268  Trenutno najbolje rešenje: -0.071 [X, Y] = 1.026 0.916\n",
            "-------------------------\n",
            "Generacija:  5  Prosek: -1.070  Trenutno najbolje rešenje: -0.055 [X, Y] = 0.976 0.934\n",
            "-------------------------\n",
            "Generacija:  6  Prosek: -1.124  Trenutno najbolje rešenje: -0.001 [X, Y] = 0.997 1.019\n",
            "-------------------------\n",
            "Generacija:  7  Prosek: -0.837  Trenutno najbolje rešenje: -0.001 [X, Y] = 0.997 0.993\n",
            "-------------------------\n",
            "Generacija:  8  Prosek: -0.750  Trenutno najbolje rešenje: -0.001 [X, Y] = 0.997 0.993\n",
            "-------------------------\n",
            "Generacija:  9  Prosek: -0.686  Trenutno najbolje rešenje: -0.001 [X, Y] = 0.997 0.993\n",
            "-------------------------\n",
            "Generacija:  10  Prosek: -0.912  Trenutno najbolje rešenje: -0.001 [X, Y] = 0.997 0.993\n",
            "-------------------------\n",
            "Generacija:  11  Prosek: -0.993  Trenutno najbolje rešenje: -0.001 [X, Y] = 0.997 0.993\n",
            "-------------------------\n",
            "Generacija:  12  Prosek: -0.872  Trenutno najbolje rešenje: -0.001 [X, Y] = 0.997 1.002\n",
            "-------------------------\n",
            "Generacija:  13  Prosek: -0.674  Trenutno najbolje rešenje: -0.001 [X, Y] = 0.997 1.002\n",
            "-------------------------\n",
            "Generacija:  14  Prosek: -0.917  Trenutno najbolje rešenje: -0.001 [X, Y] = 0.997 1.002\n",
            "-------------------------\n",
            "Generacija:  15  Prosek: -0.884  Trenutno najbolje rešenje: -0.001 [X, Y] = 0.997 1.002\n",
            "-------------------------\n",
            "Generacija:  16  Prosek: -1.042  Trenutno najbolje rešenje: -0.001 [X, Y] = 0.997 1.002\n",
            "-------------------------\n",
            "\n",
            "Pronađeno rešenje! Koordinate rešenja: [X, Y] = 0.997 1.002\n",
            "\n",
            "-0.001\n"
          ]
        }
      ]
    }
  ]
}